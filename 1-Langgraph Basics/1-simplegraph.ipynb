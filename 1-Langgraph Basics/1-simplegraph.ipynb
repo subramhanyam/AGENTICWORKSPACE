{
 "cells": [
  {
   "cell_type": "markdown",
   "id": "9293a5fa",
   "metadata": {},
   "source": [
    "### build a simle workflow or graph using langagraph"
   ]
  },
  {
   "cell_type": "code",
   "execution_count": 1,
   "id": "fd1ed3a6",
   "metadata": {},
   "outputs": [],
   "source": [
    "from typing_extensions import TypedDict\n",
    "class state(TypedDict):\n",
    "    graph_info:str\n"
   ]
  },
  {
   "cell_type": "code",
   "execution_count": 2,
   "id": "e152b996",
   "metadata": {},
   "outputs": [],
   "source": [
    "def state_play(state:state):\n",
    "    print(\"stat_play node has been called\")\n",
    "    return{\"graph_info\":state[\"graph_info\"]+\" iam palnning to play\"}\n",
    "\n",
    "def cricket(state:state):\n",
    "    print(\"mycricket node has been caled\")\n",
    "    return{\"graph_info\":state[\"graph_info\"]+\" cricket\"}\n",
    "\n",
    "def batminton(state:state):\n",
    "    print(\"mybatminton node has been caled\")\n",
    "    return{\"graph_info\":state[\"graph_info\"]+\" batminton\"}\n"
   ]
  },
  {
   "cell_type": "code",
   "execution_count": 3,
   "id": "6c33a9fd",
   "metadata": {},
   "outputs": [],
   "source": [
    "import random \n",
    "from typing import Literal\n",
    "\n",
    "def random_play(state:state)-> Literal[\"cricket\",\"batminton\"]:\n",
    "    graph_info = state[\"graph_info\"]\n",
    "     \n",
    "    if random.random() > 0.5 :\n",
    "        return \"cricket\"\n",
    "    else:\n",
    "        return \"batminton\""
   ]
  },
  {
   "cell_type": "code",
   "execution_count": 4,
   "id": "f196fb76",
   "metadata": {},
   "outputs": [],
   "source": [
    "from langgraph.graph import StateGraph, START, END\n",
    "\n",
    "graph_builder = StateGraph(state)"
   ]
  },
  {
   "cell_type": "code",
   "execution_count": 5,
   "id": "e7125df6",
   "metadata": {},
   "outputs": [
    {
     "data": {
      "text/plain": [
       "<langgraph.graph.state.StateGraph at 0x159429fa7b0>"
      ]
     },
     "execution_count": 5,
     "metadata": {},
     "output_type": "execute_result"
    }
   ],
   "source": [
    "graph_builder.add_node(\"state_play\",state_play)\n",
    "graph_builder.add_node(\"cricket\",cricket)\n",
    "graph_builder.add_node(\"batminton\",batminton)\n",
    "# graph_builder.add_node(\"random_play\",random_play)"
   ]
  },
  {
   "cell_type": "code",
   "execution_count": 6,
   "id": "31e3913d",
   "metadata": {},
   "outputs": [
    {
     "data": {
      "text/plain": [
       "<langgraph.graph.state.StateGraph at 0x159429fa7b0>"
      ]
     },
     "execution_count": 6,
     "metadata": {},
     "output_type": "execute_result"
    }
   ],
   "source": [
    "graph_builder.add_edge(START,\"state_play\")\n",
    "graph_builder.add_conditional_edges(\"state_play\",random_play)\n",
    "# graph_builder.add_conditional_edges(\n",
    "#     \"random_play\",\n",
    "#     random_play,\n",
    "#     {\n",
    "#         \"cricket\": \"cricket\",\n",
    "#         \"batminton\": \"batminton\"\n",
    "#     }\n",
    "# )\n",
    "graph_builder.add_edge(\"batminton\",END)\n",
    "graph_builder.add_edge(\"cricket\",END)"
   ]
  },
  {
   "cell_type": "code",
   "execution_count": 7,
   "id": "e5848f06",
   "metadata": {},
   "outputs": [],
   "source": [
    "graph = graph_builder.compile()"
   ]
  },
  {
   "cell_type": "code",
   "execution_count": 8,
   "id": "95cf9f08",
   "metadata": {},
   "outputs": [
    {
     "data": {
      "image/png": "[encoded data removed]",
      "text/plain": [
       "<IPython.core.display.Image object>"
      ]
     },
     "metadata": {},
     "output_type": "display_data"
    }
   ],
   "source": [
    "from IPython.display import Image, display\n",
    "display(Image(graph.get_graph().draw_mermaid_png()))"
   ]
  },
  {
   "cell_type": "code",
   "execution_count": 9,
   "id": "edb1ea2e",
   "metadata": {},
   "outputs": [
    {
     "name": "stdout",
     "output_type": "stream",
     "text": [
      "stat_play node has been called\n",
      "mycricket node has been caled\n"
     ]
    },
    {
     "data": {
      "text/plain": [
       "{'graph_info': 'start iam palnning to play cricket'}"
      ]
     },
     "execution_count": 9,
     "metadata": {},
     "output_type": "execute_result"
    }
   ],
   "source": [
    "graph.invoke({\"graph_info\":\"start\"})"
   ]
  },
  {
   "cell_type": "code",
   "execution_count": 13,
   "id": "5a9700f5",
   "metadata": {},
   "outputs": [
    {
     "name": "stdout",
     "output_type": "stream",
     "text": [
      "stat_play node has been called\n",
      "{'state_play': {'graph_info': 'start iam palnning to play'}}\n",
      "mycricket node has been caled\n",
      "{'cricket': {'graph_info': 'start iam palnning to play cricket'}}\n"
     ]
    }
   ],
   "source": [
    "for event in graph.stream({\"graph_info\":\"start\"}):\n",
    "    print(event)"
   ]
  },
  {
   "cell_type": "code",
   "execution_count": null,
   "id": "5b682bce",
   "metadata": {},
   "outputs": [],
   "source": []
  },
  {
   "cell_type": "code",
   "execution_count": null,
   "id": "1b8c2e04",
   "metadata": {},
   "outputs": [],
   "source": []
  },
  {
   "cell_type": "code",
   "execution_count": null,
   "id": "24390d6d",
   "metadata": {},
   "outputs": [],
   "source": []
  },
  {
   "cell_type": "code",
   "execution_count": null,
   "id": "9fac6dd6",
   "metadata": {},
   "outputs": [],
   "source": []
  },
  {
   "cell_type": "code",
   "execution_count": null,
   "id": "6928cdcb",
   "metadata": {},
   "outputs": [],
   "source": []
  }
 ],
 "metadata": {
  "kernelspec": {
   "display_name": "myenv",
   "language": "python",
   "name": "python3"
  },
  "language_info": {
   "codemirror_mode": {
    "name": "ipython",
    "version": 3
   },
   "file_extension": ".py",
   "mimetype": "text/x-python",
   "name": "python",
   "nbconvert_exporter": "python",
   "pygments_lexer": "ipython3",
   "version": "3.13.5"
  }
 },
 "nbformat": 4,
 "nbformat_minor": 5
}
