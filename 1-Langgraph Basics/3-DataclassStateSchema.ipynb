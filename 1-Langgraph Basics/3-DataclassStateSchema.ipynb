{
 "cells": [
  {
   "cell_type": "markdown",
   "id": "c9c9ffc5",
   "metadata": {},
   "source": [
    "### State Schema With DataClasses"
   ]
  },
  {
   "cell_type": "markdown",
   "id": "a3a4aefd",
   "metadata": {},
   "source": [
    "TypedDict or dataclass do not enforce during runtime\n"
   ]
  },
  {
   "cell_type": "code",
   "execution_count": 3,
   "id": "dc362b80",
   "metadata": {},
   "outputs": [
    {
     "name": "stdout",
     "output_type": "stream",
     "text": [
      "{'name': 'hello', 'game': 'cricket'} DataClassState(name='hello', game='cricket')\n",
      "hello cricket\n"
     ]
    }
   ],
   "source": [
    "from typing_extensions import TypedDict\n",
    "from typing import Literal\n",
    "\n",
    "class TypedDictState(TypedDict):\n",
    "    name:str\n",
    "    game:Literal[\"cricket\",\"batminton\"]\n",
    "\n",
    "from dataclasses import dataclass\n",
    "@dataclass\n",
    "class DataClassState:\n",
    "    name:str\n",
    "    game:Literal[\"cricket\",\"batminton\"]\n",
    "\n",
    "x = TypedDictState(name=\"hello\",game=\"cricket\")\n",
    "y = DataClassState(name=\"hello\",game=\"cricket\")\n",
    "print(x,y)\n",
    "#accessing dataclass sate\n",
    "print(y.name,y.game)#not y[\"game\"]"
   ]
  },
  {
   "cell_type": "markdown",
   "id": "ee201ef5",
   "metadata": {},
   "source": []
  },
  {
   "cell_type": "code",
   "execution_count": null,
   "id": "9ef15aa0",
   "metadata": {},
   "outputs": [],
   "source": []
  },
  {
   "cell_type": "code",
   "execution_count": null,
   "id": "aeb7ca46",
   "metadata": {},
   "outputs": [],
   "source": []
  }
 ],
 "metadata": {
  "kernelspec": {
   "display_name": "myenv",
   "language": "python",
   "name": "python3"
  },
  "language_info": {
   "codemirror_mode": {
    "name": "ipython",
    "version": 3
   },
   "file_extension": ".py",
   "mimetype": "text/x-python",
   "name": "python",
   "nbconvert_exporter": "python",
   "pygments_lexer": "ipython3",
   "version": "3.13.5"
  }
 },
 "nbformat": 4,
 "nbformat_minor": 5
}
