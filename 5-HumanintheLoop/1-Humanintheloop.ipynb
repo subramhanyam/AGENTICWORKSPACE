{
 "cells": [
  {
   "cell_type": "code",
   "execution_count": 1,
   "id": "79477644",
   "metadata": {},
   "outputs": [
    {
     "name": "stdout",
     "output_type": "stream",
     "text": [
      "content='The capital of India is New Delhi.' additional_kwargs={'refusal': None} response_metadata={'token_usage': {'completion_tokens': 8, 'prompt_tokens': 12, 'total_tokens': 20, 'completion_tokens_details': {'accepted_prediction_tokens': 0, 'audio_tokens': 0, 'reasoning_tokens': 0, 'rejected_prediction_tokens': 0}, 'prompt_tokens_details': {'audio_tokens': 0, 'cached_tokens': 0}}, 'model_name': 'gpt-4o-2024-08-06', 'system_fingerprint': 'fp_07871e2ad8', 'id': 'chatcmpl-Bx5wSXExLn0YASeIN2xE0zndq7i0r', 'service_tier': 'default', 'finish_reason': 'stop', 'logprobs': None} id='run--f5c53951-8cbf-4ede-88d7-e36f6b34d1b5-0' usage_metadata={'input_tokens': 12, 'output_tokens': 8, 'total_tokens': 20, 'input_token_details': {'audio': 0, 'cache_read': 0}, 'output_token_details': {'audio': 0, 'reasoning': 0}}\n"
     ]
    }
   ],
   "source": [
    "# initialising the llm\n",
    "from dotenv import load_dotenv\n",
    "import os\n",
    "load_dotenv()\n",
    "\n",
    "os.environ[\"OPENAI_API_KEY\"] = os.getenv(\"OPENAI_API_KEY\")\n",
    "\n",
    "from langchain_openai import ChatOpenAI\n",
    "\n",
    "llm = ChatOpenAI(model=\"gpt-4o\",api_key=os.environ[\"OPENAI_API_KEY\"])\n",
    "result = llm.invoke(\"what is capital of india\")\n",
    "print(result)"
   ]
  },
  {
   "cell_type": "code",
   "execution_count": 2,
   "id": "5fd9625d",
   "metadata": {},
   "outputs": [
    {
     "data": {
      "text/plain": [
       "[<function __main__.add(a: int, b: int) -> int>,\n",
       " <function __main__.multiply(a: int, b: int)>,\n",
       " <function __main__.divide(a: int, b: int) -> int>]"
      ]
     },
     "execution_count": 2,
     "metadata": {},
     "output_type": "execute_result"
    }
   ],
   "source": [
    "def multiply(a : int , b : int):\n",
    "    \"\"\"Multiply a and b.\n",
    "\n",
    "    Args:\n",
    "        a: first int\n",
    "        b: second int\n",
    "    \"\"\"\n",
    "    return a*b\n",
    "\n",
    "def add(a : int , b : int ) -> int :\n",
    "    \"\"\"Adds a and b.\n",
    "\n",
    "    Args:\n",
    "        a: first int\n",
    "        b: second int\n",
    "    \"\"\"\n",
    "    return a+b\n",
    "\n",
    "def divide(a : int, b : int ) -> int:\n",
    "    \"\"\"divides a and b.\n",
    "\n",
    "    Args:\n",
    "        a: first int\n",
    "        b: second int\n",
    "    \"\"\"\n",
    "    return a-b\n",
    "\n",
    "tools = [add,multiply, divide]\n",
    "tools\n"
   ]
  },
  {
   "cell_type": "code",
   "execution_count": 3,
   "id": "f50543d5",
   "metadata": {},
   "outputs": [],
   "source": [
    "llm_with_tools = llm.bind_tools(tools)"
   ]
  },
  {
   "cell_type": "code",
   "execution_count": 4,
   "id": "11abffe2",
   "metadata": {},
   "outputs": [],
   "source": [
    "from typing_extensions import TypedDict\n",
    "from typing import Annotated\n",
    "from langchain_core.messages import AnyMessage\n",
    "from langgraph.graph.message import add_messages\n",
    "from langgraph.graph import MessagesState\n",
    "\n",
    "# class MessageState(TypedDict):\n",
    "#     messages: Annotated[list[AnyMessage],add_messages]"
   ]
  },
  {
   "cell_type": "code",
   "execution_count": 48,
   "id": "4559b4a9",
   "metadata": {},
   "outputs": [],
   "source": [
    "from langchain_core.messages import HumanMessage,SystemMessage\n",
    "sys_msg = SystemMessage(content=\"you are a help ful assitant who will do arithematic operations\")\n",
    "\n",
    "def assistant(state:MessagesState):\n",
    "    return {\"messages\":[llm_with_tools.invoke([sys_msg] + state[\"messages\"])]} "
   ]
  },
  {
   "cell_type": "code",
   "execution_count": 49,
   "id": "8841b84c",
   "metadata": {},
   "outputs": [
    {
     "data": {
      "text/plain": [
       "<langgraph.graph.state.StateGraph at 0x16ddecaa2c0>"
      ]
     },
     "execution_count": 49,
     "metadata": {},
     "output_type": "execute_result"
    }
   ],
   "source": [
    "from langgraph.graph import StateGraph,START,END\n",
    "from langgraph.prebuilt import ToolNode,tools_condition\n",
    "\n",
    "graph_builder = StateGraph(MessagesState)\n",
    "\n",
    "graph_builder.add_node(\"assistant\",assistant)\n",
    "graph_builder.add_node(ToolNode(tools=tools))\n"
   ]
  },
  {
   "cell_type": "code",
   "execution_count": 50,
   "id": "4ea68664",
   "metadata": {},
   "outputs": [
    {
     "data": {
      "text/plain": [
       "<langgraph.graph.state.StateGraph at 0x16ddecaa2c0>"
      ]
     },
     "execution_count": 50,
     "metadata": {},
     "output_type": "execute_result"
    }
   ],
   "source": [
    "from langgraph.checkpoint.memory import MemorySaver\n",
    "memory =  MemorySaver()\n",
    "\n",
    "graph_builder.add_edge(START,\"assistant\")\n",
    "graph_builder.add_conditional_edges(\"assistant\",tools_condition)\n",
    "graph_builder.add_edge(\"tools\",\"assistant\")"
   ]
  },
  {
   "cell_type": "code",
   "execution_count": 51,
   "id": "ddb4cb2f",
   "metadata": {},
   "outputs": [
    {
     "data": {
      "image/png": "[encoded data removed]",
      "text/plain": [
       "<IPython.core.display.Image object>"
      ]
     },
     "metadata": {},
     "output_type": "display_data"
    }
   ],
   "source": [
    "from IPython.display import Image, display\n",
    "\n",
    "graph = graph_builder.compile(interrupt_before=[\"assistant\"],checkpointer=memory)\n",
    "\n",
    "display(Image(graph.get_graph().draw_mermaid_png()))\n"
   ]
  },
  {
   "cell_type": "code",
   "execution_count": 52,
   "id": "fff20a4a",
   "metadata": {},
   "outputs": [
    {
     "name": "stdout",
     "output_type": "stream",
     "text": [
      "{'messages': [HumanMessage(content='what is 2 plus 2', additional_kwargs={}, response_metadata={}, id='12e1a92c-64f4-4945-a11a-3d845e4df98c')]}\n"
     ]
    }
   ],
   "source": [
    "from pprint import pprint\n",
    "config = {\"configurable\":{\"thread_id\":\"3\"}}\n",
    "\n",
    "for event in graph.stream(input=MessagesState(messages=[HumanMessage(content=\"what is 2 plus 2\")],),config = config,stream_mode=\"values\"):\n",
    "    print(event)"
   ]
  },
  {
   "cell_type": "code",
   "execution_count": 53,
   "id": "95326382",
   "metadata": {},
   "outputs": [],
   "source": [
    "#most recent state\n",
    "state = graph.get_state(config=config)\n"
   ]
  },
  {
   "cell_type": "code",
   "execution_count": 59,
   "id": "5e3cf078",
   "metadata": {},
   "outputs": [
    {
     "name": "stdout",
     "output_type": "stream",
     "text": [
      "StateSnapshot(values={'messages': [HumanMessage(content='what is 2 plus 2', additional_kwargs={}, response_metadata={}, id='12e1a92c-64f4-4945-a11a-3d845e4df98c'), AIMessage(content='', additional_kwargs={'tool_calls': [{'id': 'call_KOirwuFZUB6aDsN9fMoWxYBN', 'function': {'arguments': '{\"a\":2,\"b\":2}', 'name': 'add'}, 'type': 'function'}], 'refusal': None}, response_metadata={'token_usage': {'completion_tokens': 17, 'prompt_tokens': 133, 'total_tokens': 150, 'completion_tokens_details': {'accepted_prediction_tokens': 0, 'audio_tokens': 0, 'reasoning_tokens': 0, 'rejected_prediction_tokens': 0}, 'prompt_tokens_details': {'audio_tokens': 0, 'cached_tokens': 0}}, 'model_name': 'gpt-4o-2024-08-06', 'system_fingerprint': 'fp_07871e2ad8', 'id': 'chatcmpl-Bx66vA4sUgjjtpbQrPsmt6ja1iXdh', 'service_tier': 'default', 'finish_reason': 'tool_calls', 'logprobs': None}, id='run--a23750f9-961e-4e0a-8755-e2f77fb3fa04-0', tool_calls=[{'name': 'add', 'args': {'a': 2, 'b': 2}, 'id': 'call_KOirwuFZUB6aDsN9fMoWxYBN', 'type': 'tool_call'}], usage_metadata={'input_tokens': 133, 'output_tokens': 17, 'total_tokens': 150, 'input_token_details': {'audio': 0, 'cache_read': 0}, 'output_token_details': {'audio': 0, 'reasoning': 0}}), ToolMessage(content='4', name='add', id='49ad97cc-6cc5-421b-b0f7-3c118af53f0b', tool_call_id='call_KOirwuFZUB6aDsN9fMoWxYBN'), AIMessage(content='2 plus 2 is 4.', additional_kwargs={'refusal': None}, response_metadata={'token_usage': {'completion_tokens': 9, 'prompt_tokens': 158, 'total_tokens': 167, 'completion_tokens_details': {'accepted_prediction_tokens': 0, 'audio_tokens': 0, 'reasoning_tokens': 0, 'rejected_prediction_tokens': 0}, 'prompt_tokens_details': {'audio_tokens': 0, 'cached_tokens': 0}}, 'model_name': 'gpt-4o-2024-08-06', 'system_fingerprint': 'fp_07871e2ad8', 'id': 'chatcmpl-Bx6797soV8rGfrgEGiO6DwcIWTpUK', 'service_tier': 'default', 'finish_reason': 'stop', 'logprobs': None}, id='run--b12f244a-e69f-470a-aa36-4c68883fd6c1-0', usage_metadata={'input_tokens': 158, 'output_tokens': 9, 'total_tokens': 167, 'input_token_details': {'audio': 0, 'cache_read': 0}, 'output_token_details': {'audio': 0, 'reasoning': 0}})]}, next=(), config={'configurable': {'thread_id': '3', 'checkpoint_ns': '', 'checkpoint_id': '1f0691fd-0f80-6d41-8003-9c1c1653cbc7'}}, metadata={'source': 'loop', 'step': 3, 'parents': {}}, created_at='2025-07-25T06:23:01.930495+00:00', parent_config={'configurable': {'thread_id': '3', 'checkpoint_ns': '', 'checkpoint_id': '1f0691fc-8969-60e4-8002-866cf28719fa'}}, tasks=(), interrupts=())\n",
      "StateSnapshot(values={'messages': [HumanMessage(content='what is 2 plus 2', additional_kwargs={}, response_metadata={}, id='12e1a92c-64f4-4945-a11a-3d845e4df98c'), AIMessage(content='', additional_kwargs={'tool_calls': [{'id': 'call_KOirwuFZUB6aDsN9fMoWxYBN', 'function': {'arguments': '{\"a\":2,\"b\":2}', 'name': 'add'}, 'type': 'function'}], 'refusal': None}, response_metadata={'token_usage': {'completion_tokens': 17, 'prompt_tokens': 133, 'total_tokens': 150, 'completion_tokens_details': {'accepted_prediction_tokens': 0, 'audio_tokens': 0, 'reasoning_tokens': 0, 'rejected_prediction_tokens': 0}, 'prompt_tokens_details': {'audio_tokens': 0, 'cached_tokens': 0}}, 'model_name': 'gpt-4o-2024-08-06', 'system_fingerprint': 'fp_07871e2ad8', 'id': 'chatcmpl-Bx66vA4sUgjjtpbQrPsmt6ja1iXdh', 'service_tier': 'default', 'finish_reason': 'tool_calls', 'logprobs': None}, id='run--a23750f9-961e-4e0a-8755-e2f77fb3fa04-0', tool_calls=[{'name': 'add', 'args': {'a': 2, 'b': 2}, 'id': 'call_KOirwuFZUB6aDsN9fMoWxYBN', 'type': 'tool_call'}], usage_metadata={'input_tokens': 133, 'output_tokens': 17, 'total_tokens': 150, 'input_token_details': {'audio': 0, 'cache_read': 0}, 'output_token_details': {'audio': 0, 'reasoning': 0}}), ToolMessage(content='4', name='add', id='49ad97cc-6cc5-421b-b0f7-3c118af53f0b', tool_call_id='call_KOirwuFZUB6aDsN9fMoWxYBN')]}, next=('assistant',), config={'configurable': {'thread_id': '3', 'checkpoint_ns': '', 'checkpoint_id': '1f0691fc-8969-60e4-8002-866cf28719fa'}}, metadata={'source': 'loop', 'step': 2, 'parents': {}}, created_at='2025-07-25T06:22:47.869860+00:00', parent_config={'configurable': {'thread_id': '3', 'checkpoint_ns': '', 'checkpoint_id': '1f0691fc-8963-622f-8001-1d50de7792ce'}}, tasks=(PregelTask(id='67a08c83-5ccc-5c86-47e8-2da531ff2099', name='assistant', path=('__pregel_pull', 'assistant'), error=None, interrupts=(), state=None, result={'messages': [AIMessage(content='2 plus 2 is 4.', additional_kwargs={'refusal': None}, response_metadata={'token_usage': {'completion_tokens': 9, 'prompt_tokens': 158, 'total_tokens': 167, 'completion_tokens_details': {'accepted_prediction_tokens': 0, 'audio_tokens': 0, 'reasoning_tokens': 0, 'rejected_prediction_tokens': 0}, 'prompt_tokens_details': {'audio_tokens': 0, 'cached_tokens': 0}}, 'model_name': 'gpt-4o-2024-08-06', 'system_fingerprint': 'fp_07871e2ad8', 'id': 'chatcmpl-Bx6797soV8rGfrgEGiO6DwcIWTpUK', 'service_tier': 'default', 'finish_reason': 'stop', 'logprobs': None}, id='run--b12f244a-e69f-470a-aa36-4c68883fd6c1-0', usage_metadata={'input_tokens': 158, 'output_tokens': 9, 'total_tokens': 167, 'input_token_details': {'audio': 0, 'cache_read': 0}, 'output_token_details': {'audio': 0, 'reasoning': 0}})]}),), interrupts=())\n",
      "StateSnapshot(values={'messages': [HumanMessage(content='what is 2 plus 2', additional_kwargs={}, response_metadata={}, id='12e1a92c-64f4-4945-a11a-3d845e4df98c'), AIMessage(content='', additional_kwargs={'tool_calls': [{'id': 'call_KOirwuFZUB6aDsN9fMoWxYBN', 'function': {'arguments': '{\"a\":2,\"b\":2}', 'name': 'add'}, 'type': 'function'}], 'refusal': None}, response_metadata={'token_usage': {'completion_tokens': 17, 'prompt_tokens': 133, 'total_tokens': 150, 'completion_tokens_details': {'accepted_prediction_tokens': 0, 'audio_tokens': 0, 'reasoning_tokens': 0, 'rejected_prediction_tokens': 0}, 'prompt_tokens_details': {'audio_tokens': 0, 'cached_tokens': 0}}, 'model_name': 'gpt-4o-2024-08-06', 'system_fingerprint': 'fp_07871e2ad8', 'id': 'chatcmpl-Bx66vA4sUgjjtpbQrPsmt6ja1iXdh', 'service_tier': 'default', 'finish_reason': 'tool_calls', 'logprobs': None}, id='run--a23750f9-961e-4e0a-8755-e2f77fb3fa04-0', tool_calls=[{'name': 'add', 'args': {'a': 2, 'b': 2}, 'id': 'call_KOirwuFZUB6aDsN9fMoWxYBN', 'type': 'tool_call'}], usage_metadata={'input_tokens': 133, 'output_tokens': 17, 'total_tokens': 150, 'input_token_details': {'audio': 0, 'cache_read': 0}, 'output_token_details': {'audio': 0, 'reasoning': 0}})]}, next=('tools',), config={'configurable': {'thread_id': '3', 'checkpoint_ns': '', 'checkpoint_id': '1f0691fc-8963-622f-8001-1d50de7792ce'}}, metadata={'source': 'loop', 'step': 1, 'parents': {}}, created_at='2025-07-25T06:22:47.867433+00:00', parent_config={'configurable': {'thread_id': '3', 'checkpoint_ns': '', 'checkpoint_id': '1f0691fc-5f4b-6126-8000-3e486e5f4527'}}, tasks=(PregelTask(id='139db551-fa86-3a55-a491-976669a606b6', name='tools', path=('__pregel_pull', 'tools'), error=None, interrupts=(), state=None, result={'messages': [ToolMessage(content='4', name='add', id='49ad97cc-6cc5-421b-b0f7-3c118af53f0b', tool_call_id='call_KOirwuFZUB6aDsN9fMoWxYBN')]}),), interrupts=())\n",
      "StateSnapshot(values={'messages': [HumanMessage(content='what is 2 plus 2', additional_kwargs={}, response_metadata={}, id='12e1a92c-64f4-4945-a11a-3d845e4df98c')]}, next=('assistant',), config={'configurable': {'thread_id': '3', 'checkpoint_ns': '', 'checkpoint_id': '1f0691fc-5f4b-6126-8000-3e486e5f4527'}}, metadata={'source': 'loop', 'step': 0, 'parents': {}}, created_at='2025-07-25T06:22:43.453546+00:00', parent_config={'configurable': {'thread_id': '3', 'checkpoint_ns': '', 'checkpoint_id': '1f0691fc-5f47-62a2-bfff-685b482f6904'}}, tasks=(PregelTask(id='abc6286e-ff99-73db-81b0-719c1be75f6c', name='assistant', path=('__pregel_pull', 'assistant'), error=None, interrupts=(), state=None, result={'messages': [AIMessage(content='', additional_kwargs={'tool_calls': [{'id': 'call_KOirwuFZUB6aDsN9fMoWxYBN', 'function': {'arguments': '{\"a\":2,\"b\":2}', 'name': 'add'}, 'type': 'function'}], 'refusal': None}, response_metadata={'token_usage': {'completion_tokens': 17, 'prompt_tokens': 133, 'total_tokens': 150, 'completion_tokens_details': {'accepted_prediction_tokens': 0, 'audio_tokens': 0, 'reasoning_tokens': 0, 'rejected_prediction_tokens': 0}, 'prompt_tokens_details': {'audio_tokens': 0, 'cached_tokens': 0}}, 'model_name': 'gpt-4o-2024-08-06', 'system_fingerprint': 'fp_07871e2ad8', 'id': 'chatcmpl-Bx66vA4sUgjjtpbQrPsmt6ja1iXdh', 'service_tier': 'default', 'finish_reason': 'tool_calls', 'logprobs': None}, id='run--a23750f9-961e-4e0a-8755-e2f77fb3fa04-0', tool_calls=[{'name': 'add', 'args': {'a': 2, 'b': 2}, 'id': 'call_KOirwuFZUB6aDsN9fMoWxYBN', 'type': 'tool_call'}], usage_metadata={'input_tokens': 133, 'output_tokens': 17, 'total_tokens': 150, 'input_token_details': {'audio': 0, 'cache_read': 0}, 'output_token_details': {'audio': 0, 'reasoning': 0}})]}),), interrupts=())\n",
      "StateSnapshot(values={'messages': []}, next=('__start__',), config={'configurable': {'thread_id': '3', 'checkpoint_ns': '', 'checkpoint_id': '1f0691fc-5f47-62a2-bfff-685b482f6904'}}, metadata={'source': 'input', 'step': -1, 'parents': {}}, created_at='2025-07-25T06:22:43.451952+00:00', parent_config=None, tasks=(PregelTask(id='a684dc31-d725-fdde-627b-2de7c2982cea', name='__start__', path=('__pregel_pull', '__start__'), error=None, interrupts=(), state=None, result={'messages': [HumanMessage(content='what is 2 plus 2', additional_kwargs={}, response_metadata={}, id='12e1a92c-64f4-4945-a11a-3d845e4df98c')]}),), interrupts=())\n",
      "{'messages': [HumanMessage(content='what is 2 plus 2', additional_kwargs={}, response_metadata={}, id='12e1a92c-64f4-4945-a11a-3d845e4df98c'), AIMessage(content='', additional_kwargs={'tool_calls': [{'id': 'call_KOirwuFZUB6aDsN9fMoWxYBN', 'function': {'arguments': '{\"a\":2,\"b\":2}', 'name': 'add'}, 'type': 'function'}], 'refusal': None}, response_metadata={'token_usage': {'completion_tokens': 17, 'prompt_tokens': 133, 'total_tokens': 150, 'completion_tokens_details': {'accepted_prediction_tokens': 0, 'audio_tokens': 0, 'reasoning_tokens': 0, 'rejected_prediction_tokens': 0}, 'prompt_tokens_details': {'audio_tokens': 0, 'cached_tokens': 0}}, 'model_name': 'gpt-4o-2024-08-06', 'system_fingerprint': 'fp_07871e2ad8', 'id': 'chatcmpl-Bx66vA4sUgjjtpbQrPsmt6ja1iXdh', 'service_tier': 'default', 'finish_reason': 'tool_calls', 'logprobs': None}, id='run--a23750f9-961e-4e0a-8755-e2f77fb3fa04-0', tool_calls=[{'name': 'add', 'args': {'a': 2, 'b': 2}, 'id': 'call_KOirwuFZUB6aDsN9fMoWxYBN', 'type': 'tool_call'}], usage_metadata={'input_tokens': 133, 'output_tokens': 17, 'total_tokens': 150, 'input_token_details': {'audio': 0, 'cache_read': 0}, 'output_token_details': {'audio': 0, 'reasoning': 0}}), ToolMessage(content='4', name='add', id='49ad97cc-6cc5-421b-b0f7-3c118af53f0b', tool_call_id='call_KOirwuFZUB6aDsN9fMoWxYBN'), AIMessage(content='2 plus 2 is 4.', additional_kwargs={'refusal': None}, response_metadata={'token_usage': {'completion_tokens': 9, 'prompt_tokens': 158, 'total_tokens': 167, 'completion_tokens_details': {'accepted_prediction_tokens': 0, 'audio_tokens': 0, 'reasoning_tokens': 0, 'rejected_prediction_tokens': 0}, 'prompt_tokens_details': {'audio_tokens': 0, 'cached_tokens': 0}}, 'model_name': 'gpt-4o-2024-08-06', 'system_fingerprint': 'fp_07871e2ad8', 'id': 'chatcmpl-Bx6797soV8rGfrgEGiO6DwcIWTpUK', 'service_tier': 'default', 'finish_reason': 'stop', 'logprobs': None}, id='run--b12f244a-e69f-470a-aa36-4c68883fd6c1-0', usage_metadata={'input_tokens': 158, 'output_tokens': 9, 'total_tokens': 167, 'input_token_details': {'audio': 0, 'cache_read': 0}, 'output_token_details': {'audio': 0, 'reasoning': 0}})]}\n"
     ]
    },
    {
     "data": {
      "text/plain": [
       "{'configurable': {'thread_id': '3',\n",
       "  'checkpoint_ns': '',\n",
       "  'checkpoint_id': '1f0691fc-8969-60e4-8002-866cf28719fa'}}"
      ]
     },
     "execution_count": 59,
     "metadata": {},
     "output_type": "execute_result"
    }
   ],
   "source": [
    "#next state\n",
    "state.next\n",
    "\n",
    "#list of all states\n",
    "for event in graph.get_state_history(config):\n",
    "    print(event)\n",
    "\n",
    "print(state.values)\n",
    "state.parent_config\n"
   ]
  },
  {
   "cell_type": "code",
   "execution_count": 56,
   "id": "293b5572",
   "metadata": {},
   "outputs": [
    {
     "name": "stdout",
     "output_type": "stream",
     "text": [
      "{'messages': [HumanMessage(content='what is 2 plus 2', additional_kwargs={}, response_metadata={}, id='12e1a92c-64f4-4945-a11a-3d845e4df98c'), AIMessage(content='', additional_kwargs={'tool_calls': [{'id': 'call_KOirwuFZUB6aDsN9fMoWxYBN', 'function': {'arguments': '{\"a\":2,\"b\":2}', 'name': 'add'}, 'type': 'function'}], 'refusal': None}, response_metadata={'token_usage': {'completion_tokens': 17, 'prompt_tokens': 133, 'total_tokens': 150, 'completion_tokens_details': {'accepted_prediction_tokens': 0, 'audio_tokens': 0, 'reasoning_tokens': 0, 'rejected_prediction_tokens': 0}, 'prompt_tokens_details': {'audio_tokens': 0, 'cached_tokens': 0}}, 'model_name': 'gpt-4o-2024-08-06', 'system_fingerprint': 'fp_07871e2ad8', 'id': 'chatcmpl-Bx66vA4sUgjjtpbQrPsmt6ja1iXdh', 'service_tier': 'default', 'finish_reason': 'tool_calls', 'logprobs': None}, id='run--a23750f9-961e-4e0a-8755-e2f77fb3fa04-0', tool_calls=[{'name': 'add', 'args': {'a': 2, 'b': 2}, 'id': 'call_KOirwuFZUB6aDsN9fMoWxYBN', 'type': 'tool_call'}], usage_metadata={'input_tokens': 133, 'output_tokens': 17, 'total_tokens': 150, 'input_token_details': {'audio': 0, 'cache_read': 0}, 'output_token_details': {'audio': 0, 'reasoning': 0}}), ToolMessage(content='4', name='add', id='49ad97cc-6cc5-421b-b0f7-3c118af53f0b', tool_call_id='call_KOirwuFZUB6aDsN9fMoWxYBN')]}\n",
      "{'messages': [HumanMessage(content='what is 2 plus 2', additional_kwargs={}, response_metadata={}, id='12e1a92c-64f4-4945-a11a-3d845e4df98c'), AIMessage(content='', additional_kwargs={'tool_calls': [{'id': 'call_KOirwuFZUB6aDsN9fMoWxYBN', 'function': {'arguments': '{\"a\":2,\"b\":2}', 'name': 'add'}, 'type': 'function'}], 'refusal': None}, response_metadata={'token_usage': {'completion_tokens': 17, 'prompt_tokens': 133, 'total_tokens': 150, 'completion_tokens_details': {'accepted_prediction_tokens': 0, 'audio_tokens': 0, 'reasoning_tokens': 0, 'rejected_prediction_tokens': 0}, 'prompt_tokens_details': {'audio_tokens': 0, 'cached_tokens': 0}}, 'model_name': 'gpt-4o-2024-08-06', 'system_fingerprint': 'fp_07871e2ad8', 'id': 'chatcmpl-Bx66vA4sUgjjtpbQrPsmt6ja1iXdh', 'service_tier': 'default', 'finish_reason': 'tool_calls', 'logprobs': None}, id='run--a23750f9-961e-4e0a-8755-e2f77fb3fa04-0', tool_calls=[{'name': 'add', 'args': {'a': 2, 'b': 2}, 'id': 'call_KOirwuFZUB6aDsN9fMoWxYBN', 'type': 'tool_call'}], usage_metadata={'input_tokens': 133, 'output_tokens': 17, 'total_tokens': 150, 'input_token_details': {'audio': 0, 'cache_read': 0}, 'output_token_details': {'audio': 0, 'reasoning': 0}}), ToolMessage(content='4', name='add', id='49ad97cc-6cc5-421b-b0f7-3c118af53f0b', tool_call_id='call_KOirwuFZUB6aDsN9fMoWxYBN'), AIMessage(content='2 plus 2 is 4.', additional_kwargs={'refusal': None}, response_metadata={'token_usage': {'completion_tokens': 9, 'prompt_tokens': 158, 'total_tokens': 167, 'completion_tokens_details': {'accepted_prediction_tokens': 0, 'audio_tokens': 0, 'reasoning_tokens': 0, 'rejected_prediction_tokens': 0}, 'prompt_tokens_details': {'audio_tokens': 0, 'cached_tokens': 0}}, 'model_name': 'gpt-4o-2024-08-06', 'system_fingerprint': 'fp_07871e2ad8', 'id': 'chatcmpl-Bx6797soV8rGfrgEGiO6DwcIWTpUK', 'service_tier': 'default', 'finish_reason': 'stop', 'logprobs': None}, id='run--b12f244a-e69f-470a-aa36-4c68883fd6c1-0', usage_metadata={'input_tokens': 158, 'output_tokens': 9, 'total_tokens': 167, 'input_token_details': {'audio': 0, 'cache_read': 0}, 'output_token_details': {'audio': 0, 'reasoning': 0}})]}\n"
     ]
    }
   ],
   "source": [
    "for event in graph.stream(None,config,stream_mode=\"values\"):\n",
    "    print(event)"
   ]
  },
  {
   "cell_type": "code",
   "execution_count": 58,
   "id": "cb50091a",
   "metadata": {},
   "outputs": [
    {
     "data": {
      "text/plain": [
       "()"
      ]
     },
     "execution_count": 58,
     "metadata": {},
     "output_type": "execute_result"
    }
   ],
   "source": [
    "state = graph.get_state(config=config)\n",
    "state.next"
   ]
  },
  {
   "cell_type": "code",
   "execution_count": 62,
   "id": "caa5024e",
   "metadata": {},
   "outputs": [
    {
     "data": {
      "text/plain": [
       "{'configurable': {'thread_id': '3',\n",
       "  'checkpoint_ns': '',\n",
       "  'checkpoint_id': '1f069248-2ff7-6c9c-8005-5f73392bd3eb'}}"
      ]
     },
     "execution_count": 62,
     "metadata": {},
     "output_type": "execute_result"
    }
   ],
   "source": [
    "graph.update_state(config,None)"
   ]
  },
  {
   "cell_type": "code",
   "execution_count": null,
   "id": "c57a4fa9",
   "metadata": {},
   "outputs": [],
   "source": []
  }
 ],
 "metadata": {
  "kernelspec": {
   "display_name": "myenv",
   "language": "python",
   "name": "python3"
  },
  "language_info": {
   "codemirror_mode": {
    "name": "ipython",
    "version": 3
   },
   "file_extension": ".py",
   "mimetype": "text/x-python",
   "name": "python",
   "nbconvert_exporter": "python",
   "pygments_lexer": "ipython3",
   "version": "3.13.5"
  }
 },
 "nbformat": 4,
 "nbformat_minor": 5
}
