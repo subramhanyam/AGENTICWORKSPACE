{
 "cells": [
  {
   "cell_type": "code",
   "execution_count": 1,
   "id": "f5f7118e",
   "metadata": {},
   "outputs": [],
   "source": [
    "import os \n",
    "from dotenv import load_dotenv\n",
    "\n",
    "os.environ[\"OPENAI_API_KEY\"] = os.getenv(\"OPENAI_API_KEY\")\n",
    "\n",
    "from langchain_openai import ChatOpenAI\n",
    "llm = ChatOpenAI(model=\"gpt-4o\",api_key=os.environ[\"OPENAI_API_KEY\"])\n",
    "result = llm.invoke(\"what is capital of india\")"
   ]
  },
  {
   "cell_type": "code",
   "execution_count": 27,
   "id": "b6fcf18e",
   "metadata": {},
   "outputs": [],
   "source": [
    "from typing_extensions import TypedDict\n",
    "\n",
    "class State(TypedDict):\n",
    "    topic : str\n",
    "    charecters : str\n",
    "    setting : str\n",
    "    premises : str\n",
    "    story_intro :str"
   ]
  },
  {
   "cell_type": "code",
   "execution_count": 28,
   "id": "319b2b48",
   "metadata": {},
   "outputs": [],
   "source": [
    "\n",
    "def charecters(state:State):\n",
    "    return {\"charecters\":llm.invoke(f\"generate some charecters for a joke on topic {state[\"topic\"]}\").content}\n",
    "\n",
    "def settings(state:State):\n",
    "    return {\"setting\":llm.invoke(f\"generate some settings for a joke on topic {state[\"topic\"]}\").content}\n",
    "\n",
    "def premises(state:State):\n",
    "    return {\"premises\":llm.invoke(f\"generate some premises for a joke on topic {state[\"topic\"]}\").content}\n",
    "\n",
    "def aggregator(state:State):\n",
    "    print(f\"state in aggeator is {state}\")\n",
    "    msg = llm.invoke(\n",
    "        f\"Write a short story introduction using these elements:\\n\"\n",
    "        f\"Characters: {state['charecters']}\\n\"\n",
    "        f\"Setting: {state['setting']}\\n\"\n",
    "        f\"Premise: {state['premises']}\"\n",
    "    )\n",
    "    return {\"story_intro\": msg.content}"
   ]
  },
  {
   "cell_type": "code",
   "execution_count": 29,
   "id": "1828a879",
   "metadata": {},
   "outputs": [
    {
     "data": {
      "text/plain": [
       "<langgraph.graph.state.StateGraph at 0x20aa722ebe0>"
      ]
     },
     "execution_count": 29,
     "metadata": {},
     "output_type": "execute_result"
    }
   ],
   "source": [
    "from langgraph.graph import StateGraph,START,END\n",
    "\n",
    "graph_builder = StateGraph(State)\n",
    "\n",
    "graph_builder.add_node(\"charecters\",charecters)\n",
    "graph_builder.add_node(\"setting\",settings)\n",
    "graph_builder.add_node(\"premises\",premises),\n",
    "graph_builder.add_node(\"aggregator\",aggregator),\n",
    "\n",
    "graph_builder.add_edge(START,\"charecters\")\n",
    "graph_builder.add_edge(START,\"setting\")\n",
    "graph_builder.add_edge(START,\"premises\")\n",
    "graph_builder.add_edge(\"charecters\",\"aggregator\")\n",
    "graph_builder.add_edge(\"setting\",\"aggregator\")\n",
    "graph_builder.add_edge(\"premises\",\"aggregator\")\n",
    "graph_builder.add_edge(\"aggregator\",END)"
   ]
  },
  {
   "cell_type": "code",
   "execution_count": 30,
   "id": "d13c6bae",
   "metadata": {},
   "outputs": [
    {
     "data": {
      "image/png": "[encoded data removed]",
      "text/plain": [
       "<IPython.core.display.Image object>"
      ]
     },
     "metadata": {},
     "output_type": "display_data"
    }
   ],
   "source": [
    "graph = graph_builder.compile()\n",
    "\n",
    "from IPython.display import Image,display\n",
    "\n",
    "display(Image(graph.get_graph().draw_mermaid_png()))"
   ]
  },
  {
   "cell_type": "code",
   "execution_count": 31,
   "id": "a25b56a8",
   "metadata": {},
   "outputs": [
    {
     "name": "stdout",
     "output_type": "stream",
     "text": [
      "state in aggeator is {'topic': 'harrypotter', 'charecters': \"Sure, here are a few original characters that could be used for a Harry Potter-themed joke:\\n\\n1. **Bertie Bottler**: A wizard with a knack for creating bizarre-flavored potions, none of which are intentional.\\n\\n2. **Nora Nimbus**: A broomstick-obsessed witch who tries to fly everything from kitchen chairs to tables, claiming each is a “new model.”\\n\\n3. **Gus Galleon**: A wizard banker constantly trying to calculate the exchange rates between Muggle money and Wizarding coinage, but is always off by a Knut or two.\\n\\n4. **Luna Lupin**: Remus Lupin’s long-lost cousin, who turns into a barking Chihuahua instead of a werewolf on full moons.\\n\\n5. **Felix Fudge**: A distant relative of Cornelius Fudge, known for his terrible luck and constant misinterpretations of prophecy.\\n\\n6. **Minerva Marmalade**: A witch convinced that turning jam into various animals could revolutionize the magical culinary world.\\n\\nUsing these characters, you might create a joke like:\\n\\nWhy did Bertie Bottler and Minerva Marmalade open a café together?\\n\\nBecause between Bertie's accidental flavors and Minerva’s jam creatures, every breakfast was a magical adventure!\", 'setting': 'Sure! Here are a few settings that could serve as fun backdrops for a Harry Potter-themed joke:\\n\\n1. **The Leaky Cauldron:** Imagine a scene where Harry is trying to use Muggle technology, like a smartphone, and keeps getting confused about why \"Lumos\" doesn\\'t make it light up.\\n\\n2. **Hogwarts Library:** Picture Hermione trying to quietly cast a spell to find a lost book, but instead accidentally animates all the books, causing a flurry of flying pages.\\n\\n3. **The Forbidden Forest:** Envision Hagrid giving Harry and Ron a lecture about respecting mythical creatures, only to be interrupted by a mischievous Niffler running off with his umbrella.\\n\\n4. **The Room of Requirement:** Think of a scenario where Neville accidentally thinks about his worst fear as he opens the Room of Requirement, and it ends up filled with Snape bobbleheads.\\n\\n5. **Ollivanders Wand Shop:** Consider a situation where a confused Muggle stumbles into Ollivanders looking for a new broom for cleaning, and is surprised to leave with a broom that refuses to touch the floor.\\n\\n6. **The Great Hall during a feast:** Imagine Dobby trying to make a special dessert for Harry, only to cause chaos when it turns into a gigantic wiggling pudding.\\n\\n7. **Diagon Alley:** Envision Fred and George Weasley unveiling their newest prank product—a \"Screaming Mandrake Toffee\"—to mixed reactions from the unsuspecting crowd.\\n\\n8. **The Astronomy Tower:** Picture Ron trying to impress Hermione by naming constellations but inadvertently points out imaginary ones, like \"The Giant Squid\" or \"Dobby\\'s Sock.\"\\n\\nAll of these settings could provide a magical backdrop for jokes that poke fun at the whimsical and enchanting world of Harry Potter.', 'premises': 'Sure, here are a few premises for a Harry Potter-themed joke:\\n\\n1. **Spell-O-Matic Misfire**: Imagine if the spell-check feature existed in the magical world. What would happen if Hermione\\'s wand started auto-correcting her spells during a duel?\\n\\n2. **Muggle Technologies**: What if Hogwarts implemented a \"No Wand, No Problem\" day where all students have to use muggle technology instead of magic to complete their tasks? How would they survive without spells?\\n\\n3. **Sorting Hat with a Twist**: What if the Sorting Hat started acting like a modern dating app, offering students houses based on swipes and matchmaking?\\n\\n4. **Wizarding World Debt**: Consider the concept of student loans in the magical world. How would Ron react to a scroll demanding payment for all the Weasleys’ schooling costs?\\n\\n5. **Grocery Store Dilemmas**: What happens when wizards try to navigate a muggle grocery store? Picture someone like Hagrid trying to figure out the self-checkout machine.\\n\\n6. **Celebrity Wizards**: How would contemporary muggle celebrity culture clash with the wizarding world? Imagine if Harry Potter had to deal with paparazzi at Hogwarts.\\n\\n7. **Potion Mishaps**: Snape’s Potion Class takes an unexpected turn when someone accidentally brews a truth serum and reveals too much about fellow students’ crushes.\\n\\nEach of these premises can be developed into a humorous scenario or anecdote.'}\n"
     ]
    },
    {
     "data": {
      "text/plain": [
       "{'topic': 'harrypotter',\n",
       " 'charecters': \"Sure, here are a few original characters that could be used for a Harry Potter-themed joke:\\n\\n1. **Bertie Bottler**: A wizard with a knack for creating bizarre-flavored potions, none of which are intentional.\\n\\n2. **Nora Nimbus**: A broomstick-obsessed witch who tries to fly everything from kitchen chairs to tables, claiming each is a “new model.”\\n\\n3. **Gus Galleon**: A wizard banker constantly trying to calculate the exchange rates between Muggle money and Wizarding coinage, but is always off by a Knut or two.\\n\\n4. **Luna Lupin**: Remus Lupin’s long-lost cousin, who turns into a barking Chihuahua instead of a werewolf on full moons.\\n\\n5. **Felix Fudge**: A distant relative of Cornelius Fudge, known for his terrible luck and constant misinterpretations of prophecy.\\n\\n6. **Minerva Marmalade**: A witch convinced that turning jam into various animals could revolutionize the magical culinary world.\\n\\nUsing these characters, you might create a joke like:\\n\\nWhy did Bertie Bottler and Minerva Marmalade open a café together?\\n\\nBecause between Bertie's accidental flavors and Minerva’s jam creatures, every breakfast was a magical adventure!\",\n",
       " 'setting': 'Sure! Here are a few settings that could serve as fun backdrops for a Harry Potter-themed joke:\\n\\n1. **The Leaky Cauldron:** Imagine a scene where Harry is trying to use Muggle technology, like a smartphone, and keeps getting confused about why \"Lumos\" doesn\\'t make it light up.\\n\\n2. **Hogwarts Library:** Picture Hermione trying to quietly cast a spell to find a lost book, but instead accidentally animates all the books, causing a flurry of flying pages.\\n\\n3. **The Forbidden Forest:** Envision Hagrid giving Harry and Ron a lecture about respecting mythical creatures, only to be interrupted by a mischievous Niffler running off with his umbrella.\\n\\n4. **The Room of Requirement:** Think of a scenario where Neville accidentally thinks about his worst fear as he opens the Room of Requirement, and it ends up filled with Snape bobbleheads.\\n\\n5. **Ollivanders Wand Shop:** Consider a situation where a confused Muggle stumbles into Ollivanders looking for a new broom for cleaning, and is surprised to leave with a broom that refuses to touch the floor.\\n\\n6. **The Great Hall during a feast:** Imagine Dobby trying to make a special dessert for Harry, only to cause chaos when it turns into a gigantic wiggling pudding.\\n\\n7. **Diagon Alley:** Envision Fred and George Weasley unveiling their newest prank product—a \"Screaming Mandrake Toffee\"—to mixed reactions from the unsuspecting crowd.\\n\\n8. **The Astronomy Tower:** Picture Ron trying to impress Hermione by naming constellations but inadvertently points out imaginary ones, like \"The Giant Squid\" or \"Dobby\\'s Sock.\"\\n\\nAll of these settings could provide a magical backdrop for jokes that poke fun at the whimsical and enchanting world of Harry Potter.',\n",
       " 'premises': 'Sure, here are a few premises for a Harry Potter-themed joke:\\n\\n1. **Spell-O-Matic Misfire**: Imagine if the spell-check feature existed in the magical world. What would happen if Hermione\\'s wand started auto-correcting her spells during a duel?\\n\\n2. **Muggle Technologies**: What if Hogwarts implemented a \"No Wand, No Problem\" day where all students have to use muggle technology instead of magic to complete their tasks? How would they survive without spells?\\n\\n3. **Sorting Hat with a Twist**: What if the Sorting Hat started acting like a modern dating app, offering students houses based on swipes and matchmaking?\\n\\n4. **Wizarding World Debt**: Consider the concept of student loans in the magical world. How would Ron react to a scroll demanding payment for all the Weasleys’ schooling costs?\\n\\n5. **Grocery Store Dilemmas**: What happens when wizards try to navigate a muggle grocery store? Picture someone like Hagrid trying to figure out the self-checkout machine.\\n\\n6. **Celebrity Wizards**: How would contemporary muggle celebrity culture clash with the wizarding world? Imagine if Harry Potter had to deal with paparazzi at Hogwarts.\\n\\n7. **Potion Mishaps**: Snape’s Potion Class takes an unexpected turn when someone accidentally brews a truth serum and reveals too much about fellow students’ crushes.\\n\\nEach of these premises can be developed into a humorous scenario or anecdote.',\n",
       " 'story_intro': 'In the bustling heart of Diagon Alley, nestled between Flourish and Blotts and the aroma-filled cauldron shops, a rather peculiar establishment had opened its doors. The sign above the quaint café read, \"Bertie Bottler & Minerva Marmalade’s Magical Mornings,\" and it promised breakfast like no other. \\n\\nInside, Bertie Bottler, a wizard with an astonishingly unique talent for concocting potions of bizarre flavors—none quite intentional—was hard at work behind the counter. Each cup of coffee carried a hint of unpredictability, ranging from mint-chocolate frog to maple and wand wood. And then there was Minerva Marmalade, a vivacious witch whose ambitions surpassed even the limits of the culinary cosmos. At her touch, jars of jam transformed into delightful creatures—a hopping raspberry rabbit here, a fluttering blueberry butterfly there. Together, they had created a breakfast experience that was one part meal, two parts magical adventure.\\n\\nThis intriguing café had quickly captured the attention of the wizarding world. Today, among its patrons, a curious collection of individuals had gathered. Nora Nimbus was there, perched precariously on a chair she claimed to be a prototype for her latest flying project, while Gus Galleon sat in a corner, scribbling fiercely, as he attempted once again to crack the elusive exchange rates between Galleons, Sickles, and standard Muggle pounds. \\n\\nLuna Lupin was present, practicing her Chihuahua transformation with increasing success—bringing some unexpected furry chaos to the café. Felix Fudge, meanwhile, had just placed an order, misinterpreting the day\\'s special as a prophetic recommendation for his future. He picked at his \"Fortune Scone,\" hoping it might crumb a clearer insight.\\n\\nOutside, the hustle and bustle of Diagon Alley carried on. Fred and George Weasley were preparing to unveil their latest prank product nearby—a \"Screaming Mandrake Toffee\" that was sure to create both joy and havoc amongst the crowd. The air was thick with the promise of laughter, magic, and the unexpected, and at Bertie and Minerva\\'s café, every new day seemed to promise an adventure unto its own.'}"
      ]
     },
     "execution_count": 31,
     "metadata": {},
     "output_type": "execute_result"
    }
   ],
   "source": [
    "graph.invoke(State(topic='harrypotter'))"
   ]
  },
  {
   "cell_type": "code",
   "execution_count": null,
   "id": "10d2d3e2",
   "metadata": {},
   "outputs": [],
   "source": []
  },
  {
   "cell_type": "code",
   "execution_count": null,
   "id": "c14d3a28",
   "metadata": {},
   "outputs": [],
   "source": []
  },
  {
   "cell_type": "code",
   "execution_count": null,
   "id": "ef5617ee",
   "metadata": {},
   "outputs": [],
   "source": []
  },
  {
   "cell_type": "code",
   "execution_count": null,
   "id": "ade52963",
   "metadata": {},
   "outputs": [],
   "source": []
  }
 ],
 "metadata": {
  "kernelspec": {
   "display_name": "myenv",
   "language": "python",
   "name": "python3"
  },
  "language_info": {
   "codemirror_mode": {
    "name": "ipython",
    "version": 3
   },
   "file_extension": ".py",
   "mimetype": "text/x-python",
   "name": "python",
   "nbconvert_exporter": "python",
   "pygments_lexer": "ipython3",
   "version": "3.13.5"
  }
 },
 "nbformat": 4,
 "nbformat_minor": 5
}
