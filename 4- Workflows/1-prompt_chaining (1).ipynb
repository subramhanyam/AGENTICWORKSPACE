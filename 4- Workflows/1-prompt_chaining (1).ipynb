{
 "cells": [
  {
   "cell_type": "code",
   "execution_count": 6,
   "id": "dbd82230",
   "metadata": {},
   "outputs": [
    {
     "data": {
      "text/plain": [
       "AIMessage(content='The capital of India is New Delhi.', additional_kwargs={'refusal': None}, response_metadata={'token_usage': {'completion_tokens': 8, 'prompt_tokens': 12, 'total_tokens': 20, 'completion_tokens_details': {'accepted_prediction_tokens': 0, 'audio_tokens': 0, 'reasoning_tokens': 0, 'rejected_prediction_tokens': 0}, 'prompt_tokens_details': {'audio_tokens': 0, 'cached_tokens': 0}}, 'model_name': 'gpt-4o-2024-08-06', 'system_fingerprint': 'fp_07871e2ad8', 'id': 'chatcmpl-BwmMv0EEtpfqcP7qLW8X2BYmy5zdn', 'service_tier': 'default', 'finish_reason': 'stop', 'logprobs': None}, id='run--cc7acb2c-9daa-4bf7-af32-1756be08d57f-0', usage_metadata={'input_tokens': 12, 'output_tokens': 8, 'total_tokens': 20, 'input_token_details': {'audio': 0, 'cache_read': 0}, 'output_token_details': {'audio': 0, 'reasoning': 0}})"
      ]
     },
     "execution_count": 6,
     "metadata": {},
     "output_type": "execute_result"
    }
   ],
   "source": [
    "import os \n",
    "from dotenv import load_dotenv\n",
    "\n",
    "os.environ[\"OPENAI_API_KEY\"] = os.getenv(\"OPENAI_API_KEY\")\n",
    "\n",
    "from langchain_openai import ChatOpenAI\n",
    "llm = ChatOpenAI(model=\"gpt-4o\",api_key=os.environ[\"OPENAI_API_KEY\"])\n",
    "result = llm.invoke(\"what is capital of india\")\n",
    "result"
   ]
  },
  {
   "cell_type": "code",
   "execution_count": 22,
   "id": "509bd230",
   "metadata": {},
   "outputs": [],
   "source": [
    "from typing_extensions import TypedDict\n",
    "\n",
    "class State(TypedDict):\n",
    "    topic:str\n",
    "    story:str\n",
    "    improved_story:str\n",
    "    final_story : str\n",
    "\n",
    "#nodes\n",
    "def generate_story(state:State):\n",
    "    msg = llm.invoke(f\"write a very very short story with out using letter 'a' on:{state[\"topic\"]}\")\n",
    "    print(f\"state is {state}\")\n",
    "    return State(story = msg.content)\n",
    "\n",
    "def check_story(state:State):\n",
    "    if \"a\" in state[\"story\"] or \"!\" in state[\"story\"]:\n",
    "        return \"Fail\"\n",
    "    return \"Pass\"\n",
    "\n",
    "\n",
    "# def check_story(state:State):\n",
    "#     if \"?\" in state[\"story\"] or \"!\" in state[\"story\"]:\n",
    "#         return \"generate_story\"\n",
    "#     return \"improved_story\"\n",
    "\n",
    "\n",
    "def improved_story(state:State):\n",
    "    msg = llm.invoke(f\"improve the story {state[\"story\"]}\")\n",
    "    return State(improved_story=msg.content)\n",
    "\n",
    "def polished_story(state:State):\n",
    "    msg = llm.invoke(f\"just add a little twist to the story {state[\"improved_story\"]}\")\n",
    "    return State(final_story=msg.content)"
   ]
  },
  {
   "cell_type": "code",
   "execution_count": 23,
   "id": "aa2605f3",
   "metadata": {},
   "outputs": [],
   "source": [
    "from langgraph.graph import StateGraph,START,END\n",
    "\n",
    "graph_builder = StateGraph(State)\n",
    "\n",
    "graph_builder.add_node(\"generate_story\",generate_story)\n",
    "graph_builder.add_node(\"improved_story\",improved_story)\n",
    "graph_builder.add_node(\"polished_story\",polished_story)\n",
    "\n",
    "graph_builder.add_edge(START,\"generate_story\")\n",
    "graph_builder.add_conditional_edges(\"generate_story\",check_story,{\"Pass\":\"improved_story\",\"Fail\":\"generate_story\"})\n",
    "# graph_builder.add_conditional_edges(\"generate_story\",check_story,{\"improved_story\":\"improved_story\",\"generate_story\":\"generate_story\"})\n",
    "graph_builder.add_edge(\"improved_story\",\"polished_story\")\n",
    "graph_builder.add_edge(\"polished_story\",END)\n",
    "\n",
    "graph = graph_builder.compile()"
   ]
  },
  {
   "cell_type": "code",
   "execution_count": 24,
   "id": "26fe2b6b",
   "metadata": {},
   "outputs": [
    {
     "data": {
      "image/png": "[encoded data removed]",
      "text/plain": [
       "<IPython.core.display.Image object>"
      ]
     },
     "metadata": {},
     "output_type": "display_data"
    }
   ],
   "source": [
    "from IPython.display import Image,display\n",
    "\n",
    "display(Image(graph.get_graph().draw_mermaid_png()))"
   ]
  },
  {
   "cell_type": "code",
   "execution_count": 25,
   "id": "cce0c77e",
   "metadata": {},
   "outputs": [],
   "source": [
    "from pprint import pprint"
   ]
  },
  {
   "cell_type": "code",
   "execution_count": null,
   "id": "cc3ccbba",
   "metadata": {},
   "outputs": [
    {
     "name": "stdout",
     "output_type": "stream",
     "text": [
      "state is {'topic': 'write about cats'}\n",
      "state is {'topic': 'write about cats', 'story': 'On a sunny hill, two kittens frolic with joy. Soft purrs echo, whiskers twitch in delight. Fur gleams under bright light, eyes full of wonder. Benevolent, they bound, capturing moments of bliss.'}\n",
      "state is {'topic': 'write about cats', 'story': 'In a small town, two furry pets lurked. Both loved to climb, curl up, or simply lounge. They purred softly, bringing joy, while never needing much to be content. These feline wonders ruled their world, living blissfully.'}\n",
      "state is {'topic': 'write about cats', 'story': 'Tiny feline leaps, exploring rooms with silent steps. Soft fur, curious nose, bright eyes seeking mischief. With gentle purrs, it brings comfort to its keeper.'}\n",
      "state is {'topic': 'write about cats', 'story': \"In a quiet corner, by moonlight's glow, two kittens pranced through gardens. Their tiny paws tread softly, exploring the world with curious eyes. Night's whispers told them secrets while they leapt, their whiskers twitching with pure delight. \"}\n",
      "state is {'topic': 'write about cats', 'story': 'In a cozy corner of the town, two nimble kittens, Tom and Lily, explore the green garden. They jump, twist, and roll, chowing down on sweet milk. Under the moonlit night, their eyes glow, reflecting silver hues. Together, they feel joy, living with pure bliss.'}\n",
      "state is {'topic': 'write about cats', 'story': 'In a cozy room, two kittens sit. One is grey with bright eyes, the other is pure white with pink noses. They purr softly, settling on the soft couch, curling up close to feel warm. Their owner smiles, giving them gentle pets, bringing them to sleep. In their world, nothing could be more blissful.'}\n",
      "state is {'topic': 'write about cats', 'story': \"In a cozy home, two cute pets, both soft with whiskers, enjoy their new spot. One, with stripes, enjoys the sun's glow, while the other, with grey fur, snoozes. Milk bowls clink; each furred buddy purrs, content.\"}\n",
      "state is {'topic': 'write about cats', 'story': 'In the quiet dusk, two tiny felines explore their world. Soft paws touch the ground with gentle steps. Their eyes, bright with mystery, observe everything unseen. They whisker through the night, finding joy in silent moonlit wonders.'}\n",
      "state is {'topic': 'write about cats', 'story': 'Little critters with set whiskers roam the room, eyes shining in dim light. They explore every corner, seeking out hidden secrets. Soft purrs echo, filling silence with comfort. Furry beings bring joy to those who observe, simply by being.'}\n",
      "state is {'topic': 'write about cats', 'story': 'Tiny felines roam freely, exploring every nook. Their curious eyes glitter under moonlight. Soft, gentle purrs fill the silence, soothing every soul. Quietly, they find comfort in cozy corners, dreaming of their next discovery.'}\n"
     ]
    },
    {
     "data": {
      "text/plain": [
       "{'topic': 'write about cats',\n",
       " 'story': 'Tiny feline frolics in moonlight, soft purrs echo. Whispering breeze meets silky fur, glowing eyes greet the night. Gentle strides upon rooftops, forever seeking mystery.',\n",
       " 'improved_story': \"Under the pale glow of the moon, a tiny feline embarks on its nightly adventure. Soft purrs resonate like a comforting melody, blending seamlessly with the whispering breeze. This gentle wind weaves through its silky fur, creating a dance of shadows and whispers in the cool night air. \\n\\nThe cat's eyes, glowing with a curious intelligence, scan the darkness, greeting the mysterious world that awakens beneath the stars. With graceful strides, it leaps effortlessly from rooftop to rooftop, as if tracing an ancient path across the sleeping town.\\n\\nEver in pursuit of the unknown, the feline explores the hidden corners and forgotten nooks, where secrets lay cradled in the silence of the night. In this enchanting realm of silver light and shadow, the cat is both a part of the mystery and its eternal seeker.\",\n",
       " 'final_story': \"On this particular night, however, the moon casts an unusual glow—a shade tinged with hints of amethyst. As the cat navigates the usual path of rooftops, something in the air feels different. Suddenly, the feline lands in an unfamiliar garden, blooming with luminous, otherworldly flowers.\\n\\nAs it weaves through the ethereal petals, a soft hum begins to resonate from the earth below. Drawn to the enchanting sound, the cat follows it to the center of the garden, where a small, ancient stone stands upright, etched with glowing symbols that seem to shift and dance under its gaze.\\n\\nIntrigued, the cat taps the stone lightly with its paw. The world around it shimmers momentarily, and as if stepping through a veil, the feline finds itself in a realm where time stands still—a twilight world inhabited by the lost echoes and unspoken dreams of the town.\\n\\nIn this hidden world, the air vibrates with the stories of the past and whispers of the future. The feline's senses are heightened; its glowing eyes capture colors and patterns unseen by the human eye. Here, it walks among forgotten memories, gathering their essence before they fade back to obscurity.\\n\\nWith each visit, the cat becomes a custodian of these ancient tales, slipping back into the real world before dawn, hidden secrets nestled softly in its heart, only to be awakened again by the amethyst moon.\"}"
      ]
     },
     "execution_count": 26,
     "metadata": {},
     "output_type": "execute_result"
    }
   ],
   "source": [
    "#new state value will only be updated or replaced that value has some thing new\n",
    "graph.invoke(State(topic=\"write about cats\"))"
   ]
  },
  {
   "cell_type": "code",
   "execution_count": null,
   "id": "08bac5af",
   "metadata": {},
   "outputs": [],
   "source": []
  }
 ],
 "metadata": {
  "kernelspec": {
   "display_name": "myenv",
   "language": "python",
   "name": "python3"
  },
  "language_info": {
   "codemirror_mode": {
    "name": "ipython",
    "version": 3
   },
   "file_extension": ".py",
   "mimetype": "text/x-python",
   "name": "python",
   "nbconvert_exporter": "python",
   "pygments_lexer": "ipython3",
   "version": "3.13.5"
  }
 },
 "nbformat": 4,
 "nbformat_minor": 5
}
