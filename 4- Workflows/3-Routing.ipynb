{
 "cells": [
  {
   "cell_type": "code",
   "execution_count": 1,
   "id": "c931d47b",
   "metadata": {},
   "outputs": [
    {
     "name": "stdout",
     "output_type": "stream",
     "text": [
      "content='The capital of India is New Delhi.' additional_kwargs={'refusal': None} response_metadata={'token_usage': {'completion_tokens': 8, 'prompt_tokens': 12, 'total_tokens': 20, 'completion_tokens_details': {'accepted_prediction_tokens': 0, 'audio_tokens': 0, 'reasoning_tokens': 0, 'rejected_prediction_tokens': 0}, 'prompt_tokens_details': {'audio_tokens': 0, 'cached_tokens': 0}}, 'model_name': 'gpt-4o-2024-08-06', 'system_fingerprint': 'fp_07871e2ad8', 'id': 'chatcmpl-Bx8OOWcDG7fUiy8orbiQAEtIYUkwu', 'service_tier': 'default', 'finish_reason': 'stop', 'logprobs': None} id='run--5b18c715-c58b-4a13-a18f-1262e54bd88d-0' usage_metadata={'input_tokens': 12, 'output_tokens': 8, 'total_tokens': 20, 'input_token_details': {'audio': 0, 'cache_read': 0}, 'output_token_details': {'audio': 0, 'reasoning': 0}}\n"
     ]
    }
   ],
   "source": [
    "# initialising the llm\n",
    "from dotenv import load_dotenv\n",
    "import os\n",
    "load_dotenv()\n",
    "\n",
    "os.environ[\"OPENAI_API_KEY\"] = os.getenv(\"OPENAI_API_KEY\")\n",
    "\n",
    "from langchain_openai import ChatOpenAI\n",
    "\n",
    "llm = ChatOpenAI(model=\"gpt-4o\",api_key=os.environ[\"OPENAI_API_KEY\"])\n",
    "result = llm.invoke(\"what is capital of india\")\n",
    "print(result)"
   ]
  },
  {
   "cell_type": "code",
   "execution_count": 2,
   "id": "984f8bfa",
   "metadata": {},
   "outputs": [],
   "source": [
    "from pydantic import BaseModel,Field\n",
    "from typing import Literal\n",
    "\n",
    "class Route(BaseModel):\n",
    "    step : Literal[\"poem\",\"story\",\"joke\"]= Field(description=\"the next step in the routing process\")\n",
    "\n",
    "router = llm.with_structured_output(Route)"
   ]
  },
  {
   "cell_type": "code",
   "execution_count": 3,
   "id": "8b146e09",
   "metadata": {},
   "outputs": [
    {
     "name": "stdout",
     "output_type": "stream",
     "text": [
      "joke\n"
     ]
    }
   ],
   "source": [
    "result = router.invoke(\"write joke on college life\")\n",
    "print(result.step)"
   ]
  },
  {
   "cell_type": "code",
   "execution_count": 4,
   "id": "14bcbcd6",
   "metadata": {},
   "outputs": [],
   "source": [
    "from typing_extensions import TypedDict\n",
    "class State(TypedDict):\n",
    "    topic:str\n",
    "    decision: str\n",
    "    output:str\n"
   ]
  },
  {
   "cell_type": "code",
   "execution_count": 5,
   "id": "ed68d345",
   "metadata": {},
   "outputs": [],
   "source": [
    "def llm_call_1(state:State):\n",
    "    \"--- writes a poem ---\"\n",
    "    return {\"output\":llm.invoke(f\"write a poem on {state[\"topic\"]}\").content}\n",
    "\n",
    "def llm_call_2(state:State):\n",
    "    \"--- writes a story ---\"\n",
    "    return {\"output\":llm.invoke(f\"write a story on {state[\"topic\"]}\").content}\n",
    "\n",
    "def llm_call_3(state:State):\n",
    "    \"--- writes a joke ---\"\n",
    "    return {\"output\":llm.invoke(f\"write a joke on {state[\"topic\"]}\").content}"
   ]
  },
  {
   "cell_type": "code",
   "execution_count": 6,
   "id": "c6d4772c",
   "metadata": {},
   "outputs": [],
   "source": [
    "from langchain_core.messages import SystemMessage,HumanMessage\n",
    "def llm_router(state:State):\n",
    "    decision=router.invoke(\n",
    "        [\n",
    "            SystemMessage(\n",
    "                content=\"Route the input to story,joke or poem based on the users request\"\n",
    "            ),\n",
    "            HumanMessage(content=state[\"topic\"])\n",
    "        ]\n",
    "    )\n",
    "    return {\"decision\" : decision.step}"
   ]
  },
  {
   "cell_type": "code",
   "execution_count": 7,
   "id": "e705fbbd",
   "metadata": {},
   "outputs": [
    {
     "data": {
      "text/plain": [
       "<langgraph.graph.state.StateGraph at 0x1df9d4d4ad0>"
      ]
     },
     "execution_count": 7,
     "metadata": {},
     "output_type": "execute_result"
    }
   ],
   "source": [
    "def route_decision(state:State):\n",
    "    return state[\"decision\"]\n",
    "\n",
    "from langgraph.graph import StateGraph,START,END\n",
    "\n",
    "graph_builder = StateGraph(State)\n",
    "graph_builder.add_node(\"llm_router\",llm_router)\n",
    "graph_builder.add_node(\"llm_call_1\",llm_call_1)\n",
    "graph_builder.add_node(\"llm_call_2\",llm_call_2)\n",
    "graph_builder.add_node(\"llm_call_3\",llm_call_3)\n",
    "\n",
    "graph_builder.add_edge(START,\"llm_router\")\n",
    "graph_builder.add_conditional_edges(\"llm_router\",route_decision,\n",
    "                                    {\n",
    "                                        \"poem\":\"llm_call_1\",\n",
    "                                        \"story\":\"llm_call_2\",\n",
    "                                        \"joke\":\"llm_call_3\"\n",
    "})\n",
    "graph_builder.add_edge(\"llm_call_1\",END)\n",
    "graph_builder.add_edge(\"llm_call_2\",END)\n",
    "graph_builder.add_edge('llm_call_3',END)"
   ]
  },
  {
   "cell_type": "code",
   "execution_count": 8,
   "id": "ad8c7c6c",
   "metadata": {},
   "outputs": [
    {
     "data": {
      "image/png": "[encoded data removed]",
      "text/plain": [
       "<IPython.core.display.Image object>"
      ]
     },
     "metadata": {},
     "output_type": "display_data"
    }
   ],
   "source": [
    "graph = graph_builder.compile()\n",
    "\n",
    "from IPython.display import Image,display\n",
    "\n",
    "display(Image(graph.get_graph().draw_mermaid_png()))"
   ]
  },
  {
   "cell_type": "code",
   "execution_count": 18,
   "id": "a6037c30",
   "metadata": {},
   "outputs": [
    {
     "data": {
      "text/plain": [
       "{'topic': 'write poem on computer',\n",
       " 'decision': 'poem',\n",
       " 'output': \"In the glow of a screen, where the wires weave,  \\nA realm of logic where our dreams conceive.  \\nA processor hums with a rhythm so tight,  \\nTurning thoughts into bytes in the vast digital night.  \\n\\nKeys clatter softly, a modern-day quill,  \\nSpinning tales through the bits with mechanical skill.  \\nHere in the circuits, the sparks come alive,  \\nIn binary whispers, the verses thrive.  \\n\\nA canvas of code, both vast and sublime,  \\nWhere electrons dance in a virtual rhyme.  \\nWith silicon heart, the machine starts to sing,  \\nOf future and past, with a digital wing.  \\n\\nIts memory vast, an infinite scroll,  \\nCapturing echoes of humanity's soul.  \\nYet even in logic, there's art to be found,  \\nWhere creativity and machine are bound.  \\n\\nOh, mighty computer, both humble and grand,  \\nA tool of creation in binary land.  \\nTogether we journey, exploring unknowns,  \\nIn the dance of our fingertips, poetry is sown.  \"}"
      ]
     },
     "execution_count": 18,
     "metadata": {},
     "output_type": "execute_result"
    }
   ],
   "source": [
    "from pprint import pprint\n",
    "graph.invoke({\"topic\":'write poem on computer'})"
   ]
  },
  {
   "cell_type": "code",
   "execution_count": null,
   "id": "fbc2f2be",
   "metadata": {},
   "outputs": [],
   "source": []
  }
 ],
 "metadata": {
  "kernelspec": {
   "display_name": "myenv",
   "language": "python",
   "name": "python3"
  },
  "language_info": {
   "codemirror_mode": {
    "name": "ipython",
    "version": 3
   },
   "file_extension": ".py",
   "mimetype": "text/x-python",
   "name": "python",
   "nbconvert_exporter": "python",
   "pygments_lexer": "ipython3",
   "version": "3.13.5"
  }
 },
 "nbformat": 4,
 "nbformat_minor": 5
}
